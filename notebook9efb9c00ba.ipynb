{
 "cells": [
  {
   "cell_type": "code",
   "execution_count": 1,
   "id": "5462ad75",
   "metadata": {
    "_cell_guid": "b1076dfc-b9ad-4769-8c92-a6c4dae69d19",
    "_uuid": "8f2839f25d086af736a60e9eeb907d3b93b6e0e5",
    "execution": {
     "iopub.execute_input": "2024-02-19T12:02:51.051493Z",
     "iopub.status.busy": "2024-02-19T12:02:51.050647Z",
     "iopub.status.idle": "2024-02-19T12:05:39.281051Z",
     "shell.execute_reply": "2024-02-19T12:05:39.279770Z"
    },
    "papermill": {
     "duration": 168.238971,
     "end_time": "2024-02-19T12:05:39.284011",
     "exception": false,
     "start_time": "2024-02-19T12:02:51.045040",
     "status": "completed"
    },
    "tags": []
   },
   "outputs": [
    {
     "name": "stderr",
     "output_type": "stream",
     "text": [
      "2024-02-19 12:02:54.290933: E external/local_xla/xla/stream_executor/cuda/cuda_dnn.cc:9261] Unable to register cuDNN factory: Attempting to register factory for plugin cuDNN when one has already been registered\n",
      "2024-02-19 12:02:54.291054: E external/local_xla/xla/stream_executor/cuda/cuda_fft.cc:607] Unable to register cuFFT factory: Attempting to register factory for plugin cuFFT when one has already been registered\n",
      "2024-02-19 12:02:54.453462: E external/local_xla/xla/stream_executor/cuda/cuda_blas.cc:1515] Unable to register cuBLAS factory: Attempting to register factory for plugin cuBLAS when one has already been registered\n"
     ]
    },
    {
     "name": "stdout",
     "output_type": "stream",
     "text": [
      "Epoch 1/10\n",
      "26/26 [==============================] - 4s 117ms/step - loss: 19.5810 - accuracy: 0.5208 - val_loss: 8.6436 - val_accuracy: 0.5637\n",
      "Epoch 2/10\n",
      "26/26 [==============================] - 3s 107ms/step - loss: 20.4879 - accuracy: 0.5600 - val_loss: 10.2818 - val_accuracy: 0.6127\n",
      "Epoch 3/10\n",
      "26/26 [==============================] - 3s 109ms/step - loss: 16.4744 - accuracy: 0.5723 - val_loss: 5.9699 - val_accuracy: 0.5882\n",
      "Epoch 4/10\n",
      "26/26 [==============================] - 3s 106ms/step - loss: 13.3080 - accuracy: 0.5895 - val_loss: 5.6232 - val_accuracy: 0.5196\n",
      "Epoch 5/10\n",
      "26/26 [==============================] - 3s 107ms/step - loss: 11.6535 - accuracy: 0.5907 - val_loss: 4.4336 - val_accuracy: 0.5735\n",
      "Epoch 6/10\n",
      "26/26 [==============================] - 3s 108ms/step - loss: 9.7430 - accuracy: 0.6287 - val_loss: 3.3467 - val_accuracy: 0.5784\n",
      "Epoch 7/10\n",
      "26/26 [==============================] - 3s 110ms/step - loss: 8.3118 - accuracy: 0.6140 - val_loss: 2.3926 - val_accuracy: 0.5882\n",
      "Epoch 8/10\n",
      "26/26 [==============================] - 3s 107ms/step - loss: 6.0680 - accuracy: 0.6458 - val_loss: 2.0398 - val_accuracy: 0.5539\n",
      "Epoch 9/10\n",
      "26/26 [==============================] - 3s 109ms/step - loss: 5.3169 - accuracy: 0.6238 - val_loss: 1.8783 - val_accuracy: 0.5833\n",
      "Epoch 10/10\n",
      "26/26 [==============================] - 3s 108ms/step - loss: 4.6983 - accuracy: 0.6434 - val_loss: 1.3042 - val_accuracy: 0.5539\n",
      "7/7 [==============================] - 0s 13ms/step\n"
     ]
    }
   ],
   "source": [
    "import pandas as pd\n",
    "import numpy as np\n",
    "import tensorflow as tf\n",
    "from tensorflow.keras import layers, models\n",
    "from sklearn.model_selection import train_test_split\n",
    "from sklearn.preprocessing import StandardScaler\n",
    "\n",
    "# Load the training dataset\n",
    "train_data = pd.read_csv('/kaggle/input/image-classifications/train.csv')\n",
    "X = train_data.iloc[:, 1:-1].values  # Features\n",
    "y = train_data.iloc[:, -1].values    # Class labels\n",
    "\n",
    "# Normalize the features\n",
    "scaler = StandardScaler()\n",
    "X = scaler.fit_transform(X)\n",
    "\n",
    "# Split the dataset into training and validation sets\n",
    "X_train, X_val, y_train, y_val = train_test_split(X, y, test_size=0.2, random_state=42)\n",
    "\n",
    "# Build a simple neural network model\n",
    "model = models.Sequential()\n",
    "model.add(layers.Dense(128, activation='relu', input_shape=(65536,)))\n",
    "model.add(layers.Dropout(0.5))\n",
    "model.add(layers.Dense(64, activation='relu'))\n",
    "model.add(layers.Dropout(0.5))\n",
    "model.add(layers.Dense(1, activation='sigmoid'))\n",
    "\n",
    "# Compile the model\n",
    "model.compile(optimizer='adam',\n",
    "              loss='binary_crossentropy',\n",
    "              metrics=['accuracy'])\n",
    "\n",
    "# Train the model\n",
    "model.fit(X_train, y_train, epochs=10, batch_size=32, validation_data=(X_val, y_val))\n",
    "\n",
    "# Load the test dataset\n",
    "test_data = pd.read_csv('/kaggle/input/image-classifications/test.csv')\n",
    "X_test = scaler.transform(test_data.iloc[:, 1:].values)\n",
    "\n",
    "# Make predictions on the test set\n",
    "predictions = model.predict(X_test)\n",
    "predicted_labels = np.round(predictions).astype(int).flatten()\n",
    "\n",
    "# Create a submission DataFrame\n",
    "submission_df = pd.DataFrame({'ID': test_data['ID'], 'Class': predicted_labels})\n",
    "\n",
    "# Save the submission file\n",
    "submission_df.to_csv('/kaggle/working/example_submission.csv', index=False)\n"
   ]
  }
 ],
 "metadata": {
  "kaggle": {
   "accelerator": "none",
   "dataSources": [
    {
     "databundleVersionId": 7748738,
     "sourceId": 70887,
     "sourceType": "competition"
    }
   ],
   "dockerImageVersionId": 30646,
   "isGpuEnabled": false,
   "isInternetEnabled": false,
   "language": "python",
   "sourceType": "notebook"
  },
  "kernelspec": {
   "display_name": "Python 3",
   "language": "python",
   "name": "python3"
  },
  "language_info": {
   "codemirror_mode": {
    "name": "ipython",
    "version": 3
   },
   "file_extension": ".py",
   "mimetype": "text/x-python",
   "name": "python",
   "nbconvert_exporter": "python",
   "pygments_lexer": "ipython3",
   "version": "3.10.13"
  },
  "papermill": {
   "default_parameters": {},
   "duration": 173.18012,
   "end_time": "2024-02-19T12:05:41.139985",
   "environment_variables": {},
   "exception": null,
   "input_path": "__notebook__.ipynb",
   "output_path": "__notebook__.ipynb",
   "parameters": {},
   "start_time": "2024-02-19T12:02:47.959865",
   "version": "2.5.0"
  }
 },
 "nbformat": 4,
 "nbformat_minor": 5
}
